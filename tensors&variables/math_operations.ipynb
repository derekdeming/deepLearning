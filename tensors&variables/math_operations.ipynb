{
 "cells": [
  {
   "cell_type": "code",
   "execution_count": 1,
   "metadata": {},
   "outputs": [],
   "source": [
    "import tensorflow as tf\n",
    "import numpy as np\n",
    "import pandas as pd"
   ]
  },
  {
   "attachments": {},
   "cell_type": "markdown",
   "metadata": {},
   "source": [
    "interview questions: \n",
    "\n",
    "Explain the Bias-Variance trade-off. How does it affect model performance? What is cross-validation and why is it important? Describe a few different types of cross-validation techniques. Can you explain the differences between supervised, unsupervised, and semi-supervised learning? Provide examples of each. What is regularization and why is it used in machine learning? Explain the difference between L1 and L2 regularization. Walk me through the process of feature selection. What techniques can be used to identify important features? How would you handle missing data in a dataset? What are some common imputation techniques? Describe the steps involved in a typical natural language processing (NLP) pipeline. What are some methods for reducing dimensionality in a dataset? How do these methods work? Explain the concept of overfitting. How can it be identified and mitigated? Discuss the differences between precision, recall, and F1-score. When would you prioritize one over the others? What is the Curse of Dimensionality? How does it impact the performance of machine learning algorithms? Can you explain the k-nearest neighbors (KNN) algorithm? How do you determine the value of 'k'?\n"
   ]
  },
  {
   "attachments": {},
   "cell_type": "markdown",
   "metadata": {},
   "source": [
    "Phone screen (coding + LPs), several rounds on-site (coding, ML/DL breadth and depth, use case/system design, LPs). Coding can be somewhat hit and miss in terms of difficulty, depends on the interviewer. ML/DL fundamentals test basic knowledge (breadth). May ask pre-DL basics. ML depth is based on a recent own project. Application/system design - not as detailed as SW system design, more high-level and focus on being able to recognize and apply certain standard or recent ML algos. LPs - do not underestimate these!"
   ]
  },
  {
   "attachments": {},
   "cell_type": "markdown",
   "metadata": {},
   "source": [
    "Two rounds of interviews. One is totally for behavior questions and another for coding and machine-learning-related questions. There are two coding questions and all from Leetcode medium levels. Not much is asked related to the research listed in the CV."
   ]
  },
  {
   "attachments": {},
   "cell_type": "markdown",
   "metadata": {},
   "source": [
    "Interview\n",
    "1: machine learning fundamentals with a senior Applied Scientist 2: Machine Learning with a Senior Development Engineer 3: Behavioral/ Culture fit with Bar Raiser 4: Coding and B.Q. with a software development manager 5: machine learning system design + B.Q. with the hiring manager\n",
    "\n",
    "Interview Questions\n",
    "what is the different non-deterministic and deterministic classifier\n",
    "\n",
    "Explain regularisation procedures in deep neural nets\n",
    "\n",
    "Interview Questions\n",
    "Write the loss function for the logistic regression. Prove that it has a global minimum.\n",
    "\n",
    "Explain gradient descent, batch norm, how to accelerate, how to parallel, how to change the batch size when parallel and how to save memory for running.\n"
   ]
  },
  {
   "attachments": {},
   "cell_type": "markdown",
   "metadata": {},
   "source": [
    "Interview Questions\n",
    "House Robber from Leet Code\n",
    "Describe class imbalance?\n",
    "\n",
    "Interview Questions\n",
    "Modified tree traversal and ml questions\n",
    "\n",
    "Interview Questions\n",
    "Leetcode medium questions. The interview was basically a discussion on edge cases\n",
    "\n",
    "Interview Questions\n",
    "Medium difficulty coding Q about connected components."
   ]
  },
  {
   "attachments": {},
   "cell_type": "markdown",
   "metadata": {},
   "source": [
    "Interview Questions\n",
    "- How to handle difficult situations\n",
    "- How to handle different opinions between colleagues\n",
    "- How a CNN works\n",
    "- How a RNN works\n",
    "- Did you work with Transformers? What is Attention?\n",
    "- Summary metrics for NLP\n",
    "- CODING: Two sum but with multiplication actually\n",
    "- How a BiLSTM works\n",
    "- Metrics for regression\n",
    "\n",
    "BONUS INTERVIEW WITH OTHER TEAM (more friendly)\n",
    "-Bagging and boosting\n",
    "-Forecasting example\n",
    "-Computational difference between XGBoost and Random Forest\n",
    "\n",
    "\n",
    "ML questions cover topics such as data imbalance, collinearity, feature selection, linear regression, logistic regression, L1/L2 norm regularization;\n",
    "ML application question -- how would you design a recommendation system that recommend books to users;\n",
    "\n",
    "DL:\n",
    "- Describe the basic ANN.\n",
    "- What's the benefit of ReLU?"
   ]
  },
  {
   "cell_type": "code",
   "execution_count": null,
   "metadata": {},
   "outputs": [],
   "source": []
  },
  {
   "cell_type": "code",
   "execution_count": null,
   "metadata": {},
   "outputs": [],
   "source": []
  }
 ],
 "metadata": {
  "kernelspec": {
   "display_name": "base",
   "language": "python",
   "name": "python3"
  },
  "language_info": {
   "codemirror_mode": {
    "name": "ipython",
    "version": 3
   },
   "file_extension": ".py",
   "mimetype": "text/x-python",
   "name": "python",
   "nbconvert_exporter": "python",
   "pygments_lexer": "ipython3",
   "version": "3.10.9"
  },
  "orig_nbformat": 4
 },
 "nbformat": 4,
 "nbformat_minor": 2
}
